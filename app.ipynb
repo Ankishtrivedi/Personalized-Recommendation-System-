{
 "cells": [
  {
   "cell_type": "code",
   "execution_count": 1,
   "id": "eaf0fb61",
   "metadata": {},
   "outputs": [
    {
     "name": "stdout",
     "output_type": "stream",
     "text": [
      "            user_id        item_id         rating     timestamp\n",
      "count  100000.00000  100000.000000  100000.000000  1.000000e+05\n",
      "mean      462.48475     425.530130       3.529860  8.835289e+08\n",
      "std       266.61442     330.798356       1.125674  5.343856e+06\n",
      "min         1.00000       1.000000       1.000000  8.747247e+08\n",
      "25%       254.00000     175.000000       3.000000  8.794487e+08\n",
      "50%       447.00000     322.000000       4.000000  8.828269e+08\n",
      "75%       682.00000     631.000000       4.000000  8.882600e+08\n",
      "max       943.00000    1682.000000       5.000000  8.932866e+08\n",
      "Unique users: 943\n",
      "Unique items: 1682\n"
     ]
    },
    {
     "data": {
      "image/png": "[encoded data removed]",
      "text/plain": [
       "<Figure size 640x480 with 1 Axes>"
      ]
     },
     "metadata": {},
     "output_type": "display_data"
    }
   ],
   "source": [
    "import pandas as pd\n",
    "import seaborn as sns\n",
    "import matplotlib.pyplot as plt\n",
    "\n",
    "# Load ratings data\n",
    "ratings = pd.read_csv(r'C:\\Users\\ankis\\Downloads\\ak\\ml-100k\\u.data', sep='\\t',\n",
    "                      names=[\"user_id\", \"item_id\", \"rating\", \"timestamp\"])\n",
    "\n",
    "# Load movie metadata (u.item file)\n",
    "movie_cols = [\"movie_id\", \"title\", \"release_date\", \"video_release_date\", \"IMDb_URL\",\n",
    "              \"unknown\", \"Action\", \"Adventure\", \"Animation\", \"Children's\", \"Comedy\", \"Crime\",\n",
    "              \"Documentary\", \"Drama\", \"Fantasy\", \"Film-Noir\", \"Horror\", \"Musical\", \"Mystery\",\n",
    "              \"Romance\", \"Sci-Fi\", \"Thriller\", \"War\", \"Western\"]\n",
    "\n",
    "movies = pd.read_csv(r'C:\\Users\\ankis\\Downloads\\ak\\ml-100k\\u.item', sep='|', encoding='latin-1',\n",
    "                     header=None, names=movie_cols, usecols=range(len(movie_cols)))\n",
    "\n",
    "# Clean data\n",
    "ratings.dropna(inplace=True)\n",
    "ratings['rating'] = ratings['rating'].astype(float)\n",
    "\n",
    "# Exploratory Data Analysis\n",
    "print(ratings.describe())\n",
    "print('Unique users:', ratings['user_id'].nunique())\n",
    "print('Unique items:', ratings['item_id'].nunique())\n",
    "\n",
    "# Rating distribution plot\n",
    "sns.set(style=\"whitegrid\")\n",
    "sns.histplot(ratings['rating'], bins=5, kde=False)\n",
    "plt.title('Rating Distribution')\n",
    "plt.xlabel('Rating')\n",
    "plt.ylabel('Frequency')\n",
    "plt.show()\n"
   ]
  },
  {
   "cell_type": "code",
   "execution_count": 2,
   "id": "659bf220",
   "metadata": {},
   "outputs": [],
   "source": [
    "import pandas as pd\n",
    "import numpy as np\n",
    "from sklearn.decomposition import TruncatedSVD\n",
    "\n",
    "''' Load ratings'''\n",
    "ratings = pd.read_csv(r'C:\\Users\\ankis\\Downloads\\ak\\ml-100k\\u.data', sep='\\t',\n",
    "                      names=['user_id', 'item_id', 'rating', 'timestamp'])\n",
    "\n",
    "''' Create user-item matrix'''\n",
    "user_item_matrix = ratings.pivot(index='user_id', columns='item_id', values='rating').fillna(0)\n",
    "\n",
    "''' Perform SVD'''\n",
    "svd = TruncatedSVD(n_components=20, random_state=42)\n",
    "matrix_reduced = svd.fit_transform(user_item_matrix)\n",
    "\n",
    "''' Reconstruct full predicted ratings matrix'''\n",
    "predicted_ratings = np.dot(matrix_reduced, svd.components_)\n",
    "predicted_df = pd.DataFrame(predicted_ratings, index=user_item_matrix.index, columns=user_item_matrix.columns)\n",
    "\n",
    "''' Recommend function for a user'''\n",
    "def svd_recommend(user_id, top_n=5):\n",
    "    user_row = predicted_df.loc[user_id]\n",
    "    rated_items = user_item_matrix.loc[user_id][user_item_matrix.loc[user_id] > 0].index\n",
    "    recommendations = user_row.drop(index=rated_items).sort_values(ascending=False).head(top_n)\n",
    "    return recommendations.index.tolist()\n"
   ]
  },
  {
   "cell_type": "code",
   "execution_count": 3,
   "id": "6c5ad22f",
   "metadata": {},
   "outputs": [
    {
     "name": "stdout",
     "output_type": "stream",
     "text": [
      "Top 5 recommendations for user 1:\n",
      "item_id\n",
      "475    4.2\n",
      "652    3.8\n",
      "433    3.6\n",
      "483    3.6\n",
      "655    3.6\n",
      "dtype: float64\n"
     ]
    }
   ],
   "source": [
    "import pandas as pd\n",
    "import numpy as np\n",
    "from sklearn.decomposition import TruncatedSVD\n",
    "from sklearn.metrics.pairwise import cosine_similarity\n",
    "\n",
    "''' Load ratings'''\n",
    "ratings = pd.read_csv(r'C:\\Users\\ankis\\Downloads\\ak\\ml-100k\\u.data', sep='\\t',\n",
    "                      names=['user_id', 'item_id', 'rating', 'timestamp'])\n",
    "\n",
    "''' Create user-item matrix'''\n",
    "user_item_matrix = ratings.pivot(index='user_id', columns='item_id', values='rating').fillna(0)\n",
    "\n",
    "''' Apply SVD'''\n",
    "svd = TruncatedSVD(n_components=20, random_state=42)\n",
    "matrix_reduced = svd.fit_transform(user_item_matrix)\n",
    "\n",
    "''' Compute cosine similarity between users'''\n",
    "user_similarity = cosine_similarity(matrix_reduced)\n",
    "user_similarity_df = pd.DataFrame(user_similarity, index=user_item_matrix.index, columns=user_item_matrix.index)\n",
    "\n",
    "''' Recommend items based on similar users'''\n",
    "def get_user_based_recommendations(user_id, top_n=5):\n",
    "    similar_users = user_similarity_df[user_id].sort_values(ascending=False)[1:top_n+1].index\n",
    "    similar_users_ratings = user_item_matrix.loc[similar_users]\n",
    "    mean_ratings = similar_users_ratings.mean(axis=0)\n",
    "    user_seen_items = user_item_matrix.loc[user_id][user_item_matrix.loc[user_id] > 0].index\n",
    "    recommendations = mean_ratings.drop(user_seen_items).sort_values(ascending=False).head(top_n)\n",
    "    return recommendations\n",
    "\n",
    "''' Example usage'''\n",
    "print(\"Top 5 recommendations for user 1:\")\n",
    "print(get_user_based_recommendations(1))\n"
   ]
  },
  {
   "cell_type": "code",
   "execution_count": 4,
   "id": "27ca524c",
   "metadata": {},
   "outputs": [
    {
     "name": "stdout",
     "output_type": "stream",
     "text": [
      "Top Recommendations for User 1:\n",
      "     movie_id                                         title\n",
      "432       433                               Heathers (1989)\n",
      "474       475                          Trainspotting (1996)\n",
      "482       483                             Casablanca (1942)\n",
      "651       652  Rosencrantz and Guildenstern Are Dead (1990)\n",
      "654       655                            Stand by Me (1986)\n"
     ]
    }
   ],
   "source": [
    "def get_user_based_recommendations(user_id, top_n=5):\n",
    "    # Step 1: Find similar users\n",
    "    similar_users = user_similarity_df[user_id].sort_values(ascending=False)[1:top_n+1].index\n",
    "    \n",
    "    # Step 2: Get ratings from similar users\n",
    "    similar_users_ratings = user_item_matrix.loc[similar_users]\n",
    "    \n",
    "    # Step 3: Get current user's ratings\n",
    "    user_ratings = user_item_matrix.loc[user_id]\n",
    "    \n",
    "    # Step 4: Calculate weighted average scores\n",
    "    weights = user_similarity_df[user_id][similar_users]\n",
    "    weighted_ratings = similar_users_ratings.T.dot(weights)\n",
    "    normalization = weights.sum()\n",
    "    scores = weighted_ratings / normalization\n",
    "    \n",
    "    # Step 5: Recommend only unrated items\n",
    "    unrated_items = user_ratings[user_ratings == 0].index\n",
    "    recommendations = scores.loc[unrated_items].sort_values(ascending=False).head(top_n)\n",
    "    \n",
    "    return recommendations\n",
    "\n",
    "''' Show recommendations with movie titles'''\n",
    "recommended_ids = get_user_based_recommendations(1)\n",
    "print(\"Top Recommendations for User 1:\")\n",
    "print(movies[movies.movie_id.isin(recommended_ids.index)][['movie_id', 'title']])\n"
   ]
  },
  {
   "cell_type": "code",
   "execution_count": 5,
   "id": "6b040460",
   "metadata": {},
   "outputs": [
    {
     "name": "stdout",
     "output_type": "stream",
     "text": [
      "Content-based recommendations for 'Toy Story (1995)':\n",
      "['Aladdin and the King of Thieves (1996)', 'Aristocats, The (1970)', 'Pinocchio (1940)', 'Sword in the Stone, The (1963)', 'Fox and the Hound, The (1981)']\n"
     ]
    }
   ],
   "source": [
    "import pandas as pd\n",
    "from sklearn.feature_extraction.text import TfidfVectorizer\n",
    "from sklearn.metrics.pairwise import linear_kernel\n",
    "\n",
    "# Define movie metadata column names\n",
    "movie_columns = [\n",
    "    \"item_id\", \"title\", \"release_date\", \"video_release_date\", \"IMDb_URL\",\n",
    "    \"unknown\", \"Action\", \"Adventure\", \"Animation\", \"Children's\", \"Comedy\", \"Crime\",\n",
    "    \"Documentary\", \"Drama\", \"Fantasy\", \"Film-Noir\", \"Horror\", \"Musical\", \"Mystery\",\n",
    "    \"Romance\", \"Sci-Fi\", \"Thriller\", \"War\", \"Western\"\n",
    "]\n",
    "\n",
    "# Load movie metadata\n",
    "movies = pd.read_csv(\n",
    "    r'C:\\Users\\ankis\\Downloads\\ak\\ml-100k\\u.item',\n",
    "    sep='|',\n",
    "    encoding='latin-1',\n",
    "    header=None,\n",
    "    names=movie_columns\n",
    ")\n",
    "\n",
    "# Combine one-hot genre columns into a single genre string\n",
    "genre_cols = movie_columns[5:]  # all genre columns start from index 5\n",
    "movies['genres'] = movies[genre_cols].apply(\n",
    "    lambda row: ' '.join([genre for genre, val in row.items() if val == 1]),\n",
    "    axis=1\n",
    ")\n",
    "\n",
    "# Apply TF-IDF vectorizer to the combined genre strings\n",
    "tfidf = TfidfVectorizer()\n",
    "tfidf_matrix = tfidf.fit_transform(movies['genres'])\n",
    "\n",
    "# Compute cosine similarity between movies\n",
    "cosine_sim = linear_kernel(tfidf_matrix, tfidf_matrix)\n",
    "\n",
    "# Create a reverse lookup map from movie title to DataFrame index\n",
    "indices = pd.Series(movies.index, index=movies['title'])\n",
    "\n",
    "# Define the content-based recommendation function\n",
    "def content_recommend(title, top_n=5):\n",
    "    if title not in indices:\n",
    "        return [\"Movie not found.\"]\n",
    "    idx = indices[title]\n",
    "    sim_scores = list(enumerate(cosine_sim[idx]))\n",
    "    sim_scores = sorted(sim_scores, key=lambda x: x[1], reverse=True)[1:top_n+1]\n",
    "    movie_indices = [i for i, _ in sim_scores]\n",
    "    return movies['title'].iloc[movie_indices].tolist()\n",
    "\n",
    "# Example usage\n",
    "print(\"Content-based recommendations for 'Toy Story (1995)':\")\n",
    "print(content_recommend(\"Toy Story (1995)\"))\n"
   ]
  },
  {
   "cell_type": "code",
   "execution_count": null,
   "id": "567ed9a3",
   "metadata": {},
   "outputs": [
    {
     "name": "stdout",
     "output_type": "stream",
     "text": [
      "Python Executable: c:\\Users\\ankis\\personalised recomendation syatem\\venv\\Scripts\\python.exe\n"
     ]
    },
    {
     "ename": "ModuleNotFoundError",
     "evalue": "No module named 'surprise'",
     "output_type": "error",
     "traceback": [
      "\u001b[31m---------------------------------------------------------------------------\u001b[39m",
      "\u001b[31mModuleNotFoundError\u001b[39m                       Traceback (most recent call last)",
      "\u001b[36mCell\u001b[39m\u001b[36m \u001b[39m\u001b[32mIn[8]\u001b[39m\u001b[32m, line 6\u001b[39m\n\u001b[32m      4\u001b[39m \u001b[38;5;28;01mimport\u001b[39;00m\u001b[38;5;250m \u001b[39m\u001b[34;01mstreamlit\u001b[39;00m\u001b[38;5;250m \u001b[39m\u001b[38;5;28;01mas\u001b[39;00m\u001b[38;5;250m \u001b[39m\u001b[34;01mst\u001b[39;00m\n\u001b[32m      5\u001b[39m \u001b[38;5;28;01mimport\u001b[39;00m\u001b[38;5;250m \u001b[39m\u001b[34;01mpandas\u001b[39;00m\u001b[38;5;250m \u001b[39m\u001b[38;5;28;01mas\u001b[39;00m\u001b[38;5;250m \u001b[39m\u001b[34;01mpd\u001b[39;00m\n\u001b[32m----> \u001b[39m\u001b[32m6\u001b[39m \u001b[38;5;28;01mfrom\u001b[39;00m\u001b[38;5;250m \u001b[39m\u001b[34;01msurprise\u001b[39;00m\u001b[38;5;250m \u001b[39m\u001b[38;5;28;01mimport\u001b[39;00m SVD, Dataset, Reader\n\u001b[32m      7\u001b[39m \u001b[38;5;28;01mfrom\u001b[39;00m\u001b[38;5;250m \u001b[39m\u001b[34;01msklearn\u001b[39;00m\u001b[34;01m.\u001b[39;00m\u001b[34;01mfeature_extraction\u001b[39;00m\u001b[34;01m.\u001b[39;00m\u001b[34;01mtext\u001b[39;00m\u001b[38;5;250m \u001b[39m\u001b[38;5;28;01mimport\u001b[39;00m TfidfVectorizer\n\u001b[32m      8\u001b[39m \u001b[38;5;28;01mfrom\u001b[39;00m\u001b[38;5;250m \u001b[39m\u001b[34;01msklearn\u001b[39;00m\u001b[34;01m.\u001b[39;00m\u001b[34;01mmetrics\u001b[39;00m\u001b[34;01m.\u001b[39;00m\u001b[34;01mpairwise\u001b[39;00m\u001b[38;5;250m \u001b[39m\u001b[38;5;28;01mimport\u001b[39;00m linear_kernel\n",
      "\u001b[31mModuleNotFoundError\u001b[39m: No module named 'surprise'"
     ]
    }
   ],
   "source": [
    "# dashboard.py\n",
    "import sys\n",
    "print(\"Python Executable:\", sys.executable)\n",
    "\n",
    "import streamlit as st\n",
    "import pandas as pd\n",
    "import numpy as np\n",
    "from sklearn.feature_extraction.text import TfidfVectorizer\n",
    "from sklearn.metrics.pairwise import linear_kernel, cosine_similarity\n",
    "from sklearn.decomposition import TruncatedSVD\n",
    "\n",
    "# Load Movie Data\n",
    "movie_columns = [\n",
    "    \"item_id\", \"title\", \"release_date\", \"video_release_date\", \"IMDb_URL\",\n",
    "    \"unknown\", \"Action\", \"Adventure\", \"Animation\", \"Children's\", \"Comedy\", \"Crime\",\n",
    "    \"Documentary\", \"Drama\", \"Fantasy\", \"Film-Noir\", \"Horror\", \"Musical\", \"Mystery\",\n",
    "    \"Romance\", \"Sci-Fi\", \"Thriller\", \"War\", \"Western\"\n",
    "]\n",
    "\n",
    "movies = pd.read_csv(\n",
    "    r'C:\\Users\\ankis\\Downloads\\ak\\ml-100k\\u.item',\n",
    "    sep='|', encoding='latin-1', header=None, names=movie_columns\n",
    ")\n",
    "\n",
    "ratings = pd.read_csv(\n",
    "    r'C:\\Users\\ankis\\Downloads\\ak\\ml-100k\\u.data',\n",
    "    sep='\\t', names=['user_id', 'item_id', 'rating', 'timestamp']\n",
    ")\n",
    "\n",
    "# --- Content-Based Filtering ---\n",
    "genre_cols = movie_columns[5:]\n",
    "movies['genres'] = movies[genre_cols].apply(\n",
    "    lambda row: ' '.join([genre for genre, val in row.items() if val == 1]), axis=1\n",
    ")\n",
    "\n",
    "tfidf = TfidfVectorizer()\n",
    "tfidf_matrix = tfidf.fit_transform(movies['genres'])\n",
    "cosine_sim = linear_kernel(tfidf_matrix, tfidf_matrix)\n",
    "indices = pd.Series(movies.index, index=movies['title'])\n",
    "\n",
    "def content_recommend(title, top_n=5):\n",
    "    if title not in indices:\n",
    "        return [\"Movie not found.\"]\n",
    "    idx = indices[title]\n",
    "    sim_scores = list(enumerate(cosine_sim[idx]))\n",
    "    sim_scores = sorted(sim_scores, key=lambda x: x[1], reverse=True)[1:top_n+1]\n",
    "    movie_indices = [i for i, _ in sim_scores]\n",
    "    return movies['title'].iloc[movie_indices].tolist()\n",
    "\n",
    "# --- Collaborative Filtering using TruncatedSVD ---\n",
    "user_item_matrix = ratings.pivot(index='user_id', columns='item_id', values='rating').fillna(0)\n",
    "svd = TruncatedSVD(n_components=20, random_state=42)\n",
    "matrix_reduced = svd.fit_transform(user_item_matrix)\n",
    "user_similarity = cosine_similarity(matrix_reduced)\n",
    "\n",
    "user_similarity_df = pd.DataFrame(user_similarity, index=user_item_matrix.index, columns=user_item_matrix.index)\n",
    "\n",
    "def svd_recommend(user_id, top_n=5):\n",
    "    if user_id not in user_similarity_df.index:\n",
    "        return [\"Invalid User ID.\"]\n",
    "    \n",
    "    # Get similar users\n",
    "    similar_users = user_similarity_df[user_id].sort_values(ascending=False)[1:6].index\n",
    "    similar_ratings = user_item_matrix.loc[similar_users]\n",
    "    weights = user_similarity_df[user_id][similar_users]\n",
    "    \n",
    "    weighted_ratings = similar_ratings.T.dot(weights)\n",
    "    normalization = weights.sum()\n",
    "    scores = weighted_ratings / normalization\n",
    "\n",
    "    # Get items not already rated\n",
    "    unrated_items = user_item_matrix.loc[user_id][user_item_matrix.loc[user_id] == 0].index\n",
    "    recommendations = scores.loc[unrated_items].sort_values(ascending=False).head(top_n)\n",
    "    return movies[movies['item_id'].isin(recommendations.index)]['title'].tolist()\n",
    "\n",
    "# --- Streamlit Dashboard ---\n",
    "st.title(\"🎬 Movie Recommendation System\")\n",
    "\n",
    "user_id = st.number_input(\"Enter your user ID (1–943):\", min_value=1, max_value=943, value=1)\n",
    "movie = st.selectbox(\"Choose a movie you like:\", movies['title'])\n",
    "\n",
    "st.write(\"### 📚 Content-based Recommendations\")\n",
    "for rec in content_recommend(movie):\n",
    "    st.write(\"•\", rec)\n",
    "\n",
    "st.write(\"### 🤝 Collaborative Recommendations\")\n",
    "for rec in svd_recommend(user_id):\n",
    "    st.write(\"•\", rec)\n"
   ]
  },
  {
   "cell_type": "code",
   "execution_count": 7,
   "id": "04755651",
   "metadata": {},
   "outputs": [
    {
     "name": "stdout",
     "output_type": "stream",
     "text": [
      "Python Executable: c:\\Users\\ankis\\personalised recomendation syatem\\venv\\Scripts\\python.exe\n"
     ]
    }
   ],
   "source": [
    "import sys\n",
    "print(\"Python Executable:\", sys.executable)\n"
   ]
  }
 ],
 "metadata": {
  "kernelspec": {
   "display_name": "venv",
   "language": "python",
   "name": "python3"
  },
  "language_info": {
   "codemirror_mode": {
    "name": "ipython",
    "version": 3
   },
   "file_extension": ".py",
   "mimetype": "text/x-python",
   "name": "python",
   "nbconvert_exporter": "python",
   "pygments_lexer": "ipython3",
   "version": "3.12.4"
  }
 },
 "nbformat": 4,
 "nbformat_minor": 5
}
